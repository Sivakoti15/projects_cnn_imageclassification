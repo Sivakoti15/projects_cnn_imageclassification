{
 "cells": [
  {
   "cell_type": "code",
   "execution_count": 2,
   "id": "72700c42",
   "metadata": {},
   "outputs": [],
   "source": [
    "from keras.models import Sequential\n",
    "from keras.layers import Conv2D\n",
    "from keras.layers import MaxPooling2D\n",
    "from keras.layers import Flatten\n",
    "from keras.layers import Dense\n",
    "from keras.preprocessing.image import ImageDataGenerator    # this is used to read the image into different shapes"
   ]
  },
  {
   "cell_type": "code",
   "execution_count": 3,
   "id": "6870ae41",
   "metadata": {},
   "outputs": [
    {
     "name": "stdout",
     "output_type": "stream",
     "text": [
      "WARNING:tensorflow:From C:\\Users\\SIVA KOTESWARARAO\\anaconda3\\Lib\\site-packages\\keras\\src\\backend.py:873: The name tf.get_default_graph is deprecated. Please use tf.compat.v1.get_default_graph instead.\n",
      "\n",
      "WARNING:tensorflow:From C:\\Users\\SIVA KOTESWARARAO\\anaconda3\\Lib\\site-packages\\keras\\src\\layers\\pooling\\max_pooling2d.py:161: The name tf.nn.max_pool is deprecated. Please use tf.nn.max_pool2d instead.\n",
      "\n"
     ]
    }
   ],
   "source": [
    "# nuerans inistilizing\n",
    "model=Sequential()\n",
    "model.add(Conv2D(32,(3,3),input_shape=(64,64,3),activation='relu'))\n",
    "model.add(MaxPooling2D(pool_size=(2,2)))\n",
    "model.add(Flatten())\n",
    "model.add(Dense(units=1,activation='sigmoid'))"
   ]
  },
  {
   "cell_type": "code",
   "execution_count": 4,
   "id": "8de1ecbd",
   "metadata": {},
   "outputs": [
    {
     "name": "stdout",
     "output_type": "stream",
     "text": [
      "WARNING:tensorflow:From C:\\Users\\SIVA KOTESWARARAO\\anaconda3\\Lib\\site-packages\\keras\\src\\optimizers\\__init__.py:309: The name tf.train.Optimizer is deprecated. Please use tf.compat.v1.train.Optimizer instead.\n",
      "\n"
     ]
    }
   ],
   "source": [
    "# compiling\n",
    "#model.compile(loss='binary_crossentropy',optimizer='adam',maetrics={'accracy'})\n",
    "model.compile(loss='binary_crossentropy',optimizer='adam',metrics=['accuracy'])"
   ]
  },
  {
   "cell_type": "code",
   "execution_count": 5,
   "id": "2d865305",
   "metadata": {},
   "outputs": [],
   "source": [
    "# training \n",
    "\n",
    "train_datagen = ImageDataGenerator(rescale=1./255,shear_range=0.2,zoom_range=0.2,horizontal_flip=True)\n",
    "test_datagen=ImageDataGenerator(rescale=1./255)"
   ]
  },
  {
   "cell_type": "code",
   "execution_count": 7,
   "id": "c47e2a3d",
   "metadata": {},
   "outputs": [
    {
     "name": "stdout",
     "output_type": "stream",
     "text": [
      "Found 74 images belonging to 2 classes.\n"
     ]
    }
   ],
   "source": [
    "# loading images\n",
    "training_set=train_datagen.flow_from_directory('D://siva python//PROJECTS//CV_PROJECTS//images//joker&thanos_binaryData//training set',target_size=(64,64),batch_size=8,class_mode='binary')"
   ]
  },
  {
   "cell_type": "code",
   "execution_count": 8,
   "id": "ffc34eea",
   "metadata": {},
   "outputs": [
    {
     "name": "stdout",
     "output_type": "stream",
     "text": [
      "Found 34 images belonging to 2 classes.\n"
     ]
    }
   ],
   "source": [
    "# valiadating the dataset with some images\n",
    "val_set=test_datagen.flow_from_directory(\"D://siva python//PROJECTS//CV_PROJECTS//images//joker&thanos_binaryData//val_set\",target_size=(64,64),batch_size=8,class_mode='binary')"
   ]
  },
  {
   "cell_type": "code",
   "execution_count": 9,
   "id": "951accb7",
   "metadata": {},
   "outputs": [
    {
     "name": "stderr",
     "output_type": "stream",
     "text": [
      "C:\\Users\\SIVA KOTESWARARAO\\AppData\\Local\\Temp\\ipykernel_820\\3532430928.py:2: UserWarning: `Model.fit_generator` is deprecated and will be removed in a future version. Please use `Model.fit`, which supports generators.\n",
      "  model.fit_generator(training_set,steps_per_epoch=10,epochs=25,validation_data=val_set,validation_steps=2)\n"
     ]
    },
    {
     "name": "stdout",
     "output_type": "stream",
     "text": [
      "Epoch 1/25\n",
      "WARNING:tensorflow:From C:\\Users\\SIVA KOTESWARARAO\\anaconda3\\Lib\\site-packages\\keras\\src\\utils\\tf_utils.py:492: The name tf.ragged.RaggedTensorValue is deprecated. Please use tf.compat.v1.ragged.RaggedTensorValue instead.\n",
      "\n",
      "WARNING:tensorflow:From C:\\Users\\SIVA KOTESWARARAO\\anaconda3\\Lib\\site-packages\\keras\\src\\engine\\base_layer_utils.py:384: The name tf.executing_eagerly_outside_functions is deprecated. Please use tf.compat.v1.executing_eagerly_outside_functions instead.\n",
      "\n",
      "10/10 [==============================] - 10s 831ms/step - loss: 0.9464 - accuracy: 0.5811 - val_loss: 1.0551 - val_accuracy: 0.5000\n",
      "Epoch 2/25\n",
      "10/10 [==============================] - 6s 638ms/step - loss: 0.7846 - accuracy: 0.5405 - val_loss: 0.8857 - val_accuracy: 0.5000\n",
      "Epoch 3/25\n",
      "10/10 [==============================] - 6s 665ms/step - loss: 0.6124 - accuracy: 0.7297 - val_loss: 0.5097 - val_accuracy: 0.6250\n",
      "Epoch 4/25\n",
      "10/10 [==============================] - 6s 639ms/step - loss: 0.5630 - accuracy: 0.7703 - val_loss: 0.5449 - val_accuracy: 0.6250\n",
      "Epoch 5/25\n",
      "10/10 [==============================] - 7s 641ms/step - loss: 0.4994 - accuracy: 0.8108 - val_loss: 0.5620 - val_accuracy: 0.8125\n",
      "Epoch 6/25\n",
      "10/10 [==============================] - 7s 672ms/step - loss: 0.4907 - accuracy: 0.7297 - val_loss: 0.5235 - val_accuracy: 0.6875\n",
      "Epoch 7/25\n",
      "10/10 [==============================] - 6s 580ms/step - loss: 0.5504 - accuracy: 0.7027 - val_loss: 0.3964 - val_accuracy: 0.8750\n",
      "Epoch 8/25\n",
      "10/10 [==============================] - 6s 672ms/step - loss: 0.4893 - accuracy: 0.7297 - val_loss: 0.4988 - val_accuracy: 0.6875\n",
      "Epoch 9/25\n",
      "10/10 [==============================] - 6s 650ms/step - loss: 0.5728 - accuracy: 0.7162 - val_loss: 0.4595 - val_accuracy: 0.8750\n",
      "Epoch 10/25\n",
      "10/10 [==============================] - 6s 608ms/step - loss: 0.5365 - accuracy: 0.6486 - val_loss: 0.6185 - val_accuracy: 0.5625\n",
      "Epoch 11/25\n",
      "10/10 [==============================] - 6s 633ms/step - loss: 0.4403 - accuracy: 0.8108 - val_loss: 0.4241 - val_accuracy: 0.8750\n",
      "Epoch 12/25\n",
      "10/10 [==============================] - 7s 640ms/step - loss: 0.4013 - accuracy: 0.8919 - val_loss: 0.3537 - val_accuracy: 0.8125\n",
      "Epoch 13/25\n",
      "10/10 [==============================] - 7s 696ms/step - loss: 0.3311 - accuracy: 0.8784 - val_loss: 0.3305 - val_accuracy: 0.8750\n",
      "Epoch 14/25\n",
      "10/10 [==============================] - 7s 700ms/step - loss: 0.3342 - accuracy: 0.8784 - val_loss: 0.3633 - val_accuracy: 0.8125\n",
      "Epoch 15/25\n",
      "10/10 [==============================] - 7s 615ms/step - loss: 0.3153 - accuracy: 0.8919 - val_loss: 0.4076 - val_accuracy: 0.7500\n",
      "Epoch 16/25\n",
      "10/10 [==============================] - 7s 659ms/step - loss: 0.2789 - accuracy: 0.9324 - val_loss: 0.2581 - val_accuracy: 0.9375\n",
      "Epoch 17/25\n",
      "10/10 [==============================] - 7s 671ms/step - loss: 0.2694 - accuracy: 0.9324 - val_loss: 0.3796 - val_accuracy: 0.9375\n",
      "Epoch 18/25\n",
      "10/10 [==============================] - 7s 711ms/step - loss: 0.2523 - accuracy: 0.9189 - val_loss: 0.2714 - val_accuracy: 0.8750\n",
      "Epoch 19/25\n",
      "10/10 [==============================] - 6s 669ms/step - loss: 0.2216 - accuracy: 0.9595 - val_loss: 0.2675 - val_accuracy: 0.8750\n",
      "Epoch 20/25\n",
      "10/10 [==============================] - 6s 675ms/step - loss: 0.2334 - accuracy: 0.9459 - val_loss: 0.1838 - val_accuracy: 0.9375\n",
      "Epoch 21/25\n",
      "10/10 [==============================] - 6s 633ms/step - loss: 0.2145 - accuracy: 0.9324 - val_loss: 0.3250 - val_accuracy: 0.8125\n",
      "Epoch 22/25\n",
      "10/10 [==============================] - 7s 660ms/step - loss: 0.2062 - accuracy: 0.9459 - val_loss: 0.3242 - val_accuracy: 0.8125\n",
      "Epoch 23/25\n",
      "10/10 [==============================] - 7s 567ms/step - loss: 0.2667 - accuracy: 0.9054 - val_loss: 0.1937 - val_accuracy: 0.9375\n",
      "Epoch 24/25\n",
      "10/10 [==============================] - 6s 661ms/step - loss: 0.1909 - accuracy: 0.9595 - val_loss: 0.2373 - val_accuracy: 0.8750\n",
      "Epoch 25/25\n",
      "10/10 [==============================] - 7s 716ms/step - loss: 0.1636 - accuracy: 0.9730 - val_loss: 0.2969 - val_accuracy: 0.8750\n"
     ]
    },
    {
     "data": {
      "text/plain": [
       "<keras.src.callbacks.History at 0x2d7c66aa2d0>"
      ]
     },
     "execution_count": 9,
     "metadata": {},
     "output_type": "execute_result"
    }
   ],
   "source": [
    "# fitting the dataset\n",
    "model.fit_generator(training_set,steps_per_epoch=10,epochs=25,validation_data=val_set,validation_steps=2)"
   ]
  },
  {
   "cell_type": "code",
   "execution_count": 17,
   "id": "a1218ba6",
   "metadata": {},
   "outputs": [],
   "source": [
    "#_,accuracy=model.evaluate(training_set,val_set)   # shape is not work"
   ]
  },
  {
   "cell_type": "code",
   "execution_count": 10,
   "id": "6b9d1bf2",
   "metadata": {},
   "outputs": [
    {
     "name": "stdout",
     "output_type": "stream",
     "text": [
      "the model is saved in disk\n"
     ]
    }
   ],
   "source": [
    "# saving  the model into a file\n",
    "#from keras.models import model_from_json\n",
    "model_json=model.to_json()\n",
    "with open(\"modelCNN.json\",'w') as json_file:\n",
    "    json_file.write(model_json)\n",
    "model.save_weights(\"modelCNNWEIGHTS.CNN\")\n",
    "print(\"the model is saved in disk\")\n"
   ]
  },
  {
   "cell_type": "code",
   "execution_count": null,
   "id": "17b7d909",
   "metadata": {},
   "outputs": [],
   "source": []
  },
  {
   "cell_type": "code",
   "execution_count": null,
   "id": "7ace1a26",
   "metadata": {},
   "outputs": [],
   "source": []
  },
  {
   "cell_type": "markdown",
   "id": "fcc43138",
   "metadata": {},
   "source": [
    "# testing the predicted data"
   ]
  },
  {
   "cell_type": "code",
   "execution_count": 15,
   "id": "d2eeb66a",
   "metadata": {
    "scrolled": true
   },
   "outputs": [
    {
     "name": "stdout",
     "output_type": "stream",
     "text": [
      "WARNING:tensorflow:Detecting that an object or model or tf.train.Checkpoint is being deleted with unrestored values. See the following logs for the specific values in question. To silence these warnings, use `status.expect_partial()`. See https://www.tensorflow.org/api_docs/python/tf/train/Checkpoint#restorefor details about the status object returned by the restore function.\n",
      "WARNING:tensorflow:Value in checkpoint could not be found in the restored object: (root).optimizer._iterations\n",
      "WARNING:tensorflow:Value in checkpoint could not be found in the restored object: (root).optimizer._learning_rate\n",
      "WARNING:tensorflow:Value in checkpoint could not be found in the restored object: (root).optimizer._variables.1\n",
      "WARNING:tensorflow:Value in checkpoint could not be found in the restored object: (root).optimizer._variables.2\n",
      "WARNING:tensorflow:Value in checkpoint could not be found in the restored object: (root).optimizer._variables.3\n",
      "WARNING:tensorflow:Value in checkpoint could not be found in the restored object: (root).optimizer._variables.4\n",
      "WARNING:tensorflow:Value in checkpoint could not be found in the restored object: (root).optimizer._variables.5\n",
      "WARNING:tensorflow:Value in checkpoint could not be found in the restored object: (root).optimizer._variables.6\n",
      "WARNING:tensorflow:Value in checkpoint could not be found in the restored object: (root).optimizer._variables.7\n",
      "WARNING:tensorflow:Value in checkpoint could not be found in the restored object: (root).optimizer._variables.8\n",
      "the model is successfully loaded\n",
      "1/1 [==============================] - 0s 219ms/step\n",
      "Thanos D://siva python//PROJECTS//CV_PROJECTS//images//joker&thanos_binaryData//test\\elephant_4.jpeg\n",
      "\n",
      "\n",
      "1/1 [==============================] - 0s 63ms/step\n",
      "joker D://siva python//PROJECTS//CV_PROJECTS//images//joker&thanos_binaryData//test\\joker_17.jpeg\n",
      "\n",
      "\n",
      "1/1 [==============================] - 0s 63ms/step\n",
      "joker D://siva python//PROJECTS//CV_PROJECTS//images//joker&thanos_binaryData//test\\joker_28.jpeg\n",
      "\n",
      "\n",
      "1/1 [==============================] - 0s 47ms/step\n",
      "joker D://siva python//PROJECTS//CV_PROJECTS//images//joker&thanos_binaryData//test\\joker_29.jpeg\n",
      "\n",
      "\n",
      "1/1 [==============================] - 0s 63ms/step\n",
      "joker D://siva python//PROJECTS//CV_PROJECTS//images//joker&thanos_binaryData//test\\joker_32.jpeg\n",
      "\n",
      "\n",
      "1/1 [==============================] - 0s 47ms/step\n",
      "joker D://siva python//PROJECTS//CV_PROJECTS//images//joker&thanos_binaryData//test\\joker_33.jpeg\n",
      "\n",
      "\n",
      "1/1 [==============================] - 0s 47ms/step\n",
      "Thanos D://siva python//PROJECTS//CV_PROJECTS//images//joker&thanos_binaryData//test\\thanos_21.jpeg\n",
      "\n",
      "\n",
      "1/1 [==============================] - 0s 63ms/step\n",
      "Thanos D://siva python//PROJECTS//CV_PROJECTS//images//joker&thanos_binaryData//test\\thanos_22.jpeg\n",
      "\n",
      "\n",
      "1/1 [==============================] - 0s 47ms/step\n",
      "Thanos D://siva python//PROJECTS//CV_PROJECTS//images//joker&thanos_binaryData//test\\thanos_25.jpeg\n",
      "\n",
      "\n",
      "1/1 [==============================] - 0s 62ms/step\n",
      "Thanos D://siva python//PROJECTS//CV_PROJECTS//images//joker&thanos_binaryData//test\\thanos_26.jpeg\n",
      "\n",
      "\n",
      "1/1 [==============================] - 0s 64ms/step\n",
      "Thanos D://siva python//PROJECTS//CV_PROJECTS//images//joker&thanos_binaryData//test\\thanos_6.jpeg\n",
      "\n",
      "\n"
     ]
    }
   ],
   "source": [
    "# testing the data\n",
    "from keras.models import model_from_json\n",
    "import numpy as np\n",
    "from keras.preprocessing import image\n",
    "import os\n",
    "\n",
    "json_file=open('modelCNN.json','r')\n",
    "#print(json_file)\n",
    "loaded_model_json=json_file.read()\n",
    "json_file.close()\n",
    "\n",
    "model=model_from_json(loaded_model_json)\n",
    "model.load_weights(\"modelCNNWEIGHTS.CNN\")\n",
    "print(\"the model is successfully loaded\")\n",
    "\n",
    "def classify(img_file):\n",
    "    img_name=img_file\n",
    "    test_image=image.load_img(img_name,target_size=(64,64))\n",
    "    test_image=image.img_to_array(test_image)\n",
    "    test_image=np.expand_dims(test_image,axis=0)\n",
    "    result=model.predict(test_image)\n",
    "    \n",
    "    if result[0][0]==1:\n",
    "        prediction='Thanos'\n",
    "    else:\n",
    "        prediction='joker'\n",
    "   \n",
    "    \n",
    "    print(prediction,img_name)\n",
    "    \n",
    "path=\"D://siva python//PROJECTS//CV_PROJECTS//images//joker&thanos_binaryData//test\"\n",
    "files=[]\n",
    "for r,d,f in os.walk(path):\n",
    "     for file in f:\n",
    "            if '.jpeg' in file:\n",
    "                files.append(os.path.join(r,file))\n",
    "\n",
    "for f in files:\n",
    "    classify(f)\n",
    "    print('\\n')"
   ]
  },
  {
   "cell_type": "code",
   "execution_count": null,
   "id": "e85db084",
   "metadata": {},
   "outputs": [],
   "source": []
  },
  {
   "cell_type": "code",
   "execution_count": 31,
   "id": "98105de4",
   "metadata": {},
   "outputs": [],
   "source": []
  },
  {
   "cell_type": "code",
   "execution_count": null,
   "id": "82c41b5e",
   "metadata": {},
   "outputs": [],
   "source": []
  }
 ],
 "metadata": {
  "kernelspec": {
   "display_name": "Python 3 (ipykernel)",
   "language": "python",
   "name": "python3"
  },
  "language_info": {
   "codemirror_mode": {
    "name": "ipython",
    "version": 3
   },
   "file_extension": ".py",
   "mimetype": "text/x-python",
   "name": "python",
   "nbconvert_exporter": "python",
   "pygments_lexer": "ipython3",
   "version": "3.11.4"
  }
 },
 "nbformat": 4,
 "nbformat_minor": 5
}
