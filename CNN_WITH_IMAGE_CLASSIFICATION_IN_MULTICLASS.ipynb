{
 "cells": [
  {
   "cell_type": "code",
   "execution_count": 4,
   "id": "24c66c10",
   "metadata": {},
   "outputs": [],
   "source": [
    "\n",
    "from keras.models import Sequential\n",
    "from keras.layers import Conv2D\n",
    "from keras.layers import MaxPooling2D\n",
    "from keras.layers import Flatten\n",
    "from keras.preprocessing.image import ImageDataGenerator\n",
    "from keras.layers import Dense\n",
    "from keras.layers import BatchNormalization\n",
    "from keras.layers import Dropout"
   ]
  },
  {
   "cell_type": "code",
   "execution_count": 3,
   "id": "b1008580",
   "metadata": {},
   "outputs": [],
   "source": [
    "# CREATING THE NEURANS\n",
    "\n",
    "model=Sequential()\n",
    "model.add(Conv2D(32,kernel_size=(3,3),activation='relu',input_shape=(128,128,3)))\n",
    "model.add(MaxPooling2D(pool_size=(2,2)))\n",
    "model.add(BatchNormalization())\n"
   ]
  },
  {
   "cell_type": "code",
   "execution_count": 5,
   "id": "2218b439",
   "metadata": {},
   "outputs": [],
   "source": [
    "model.add(Conv2D(64,kernel_size=(3,3),activation='relu'))\n",
    "model.add(MaxPooling2D(pool_size=(2,2)))\n",
    "model.add(BatchNormalization())"
   ]
  },
  {
   "cell_type": "code",
   "execution_count": 6,
   "id": "555718e1",
   "metadata": {},
   "outputs": [],
   "source": [
    "model.add(Conv2D(64,kernel_size=(3,3),activation='relu'))\n",
    "model.add(MaxPooling2D(pool_size=(2,2)))\n",
    "model.add(BatchNormalization())"
   ]
  },
  {
   "cell_type": "code",
   "execution_count": 7,
   "id": "d817c508",
   "metadata": {},
   "outputs": [],
   "source": [
    "model.add(Conv2D(96,kernel_size=(3,3),activation='relu'))\n",
    "model.add(MaxPooling2D(pool_size=(2,2)))\n",
    "model.add(BatchNormalization())"
   ]
  },
  {
   "cell_type": "code",
   "execution_count": 8,
   "id": "09fe34d4",
   "metadata": {},
   "outputs": [],
   "source": [
    "model.add(Conv2D(32,kernel_size=(3,3),activation='relu'))\n",
    "model.add(MaxPooling2D(pool_size=(2,2)))\n",
    "model.add(BatchNormalization())"
   ]
  },
  {
   "cell_type": "code",
   "execution_count": 9,
   "id": "89980710",
   "metadata": {},
   "outputs": [],
   "source": [
    "model.add(Dropout(0.2))\n",
    "model.add(Flatten())\n",
    "\n",
    "model.add(Dense(128,activation='relu'))\n",
    "model.add(Dropout(0.3))\n",
    "\n",
    "\n",
    "model.add(Dense(6,activation='softmax'))"
   ]
  },
  {
   "cell_type": "code",
   "execution_count": 11,
   "id": "2fd1318c",
   "metadata": {},
   "outputs": [],
   "source": [
    "# compiling\n",
    "\n",
    "model.compile(loss='categorical_crossentropy',optimizer='adam',metrics=['accuracy'])"
   ]
  },
  {
   "cell_type": "code",
   "execution_count": 12,
   "id": "3cb56b3e",
   "metadata": {},
   "outputs": [],
   "source": [
    "# reading the data\n",
    "\n",
    "train_datagen=ImageDataGenerator(rescale=None,shear_range=0.2,zoom_range=0.2,horizontal_flip=True)\n",
    "test_datagen=ImageDataGenerator(rescale=1./255)"
   ]
  },
  {
   "cell_type": "code",
   "execution_count": 13,
   "id": "861259f3",
   "metadata": {},
   "outputs": [
    {
     "name": "stdout",
     "output_type": "stream",
     "text": [
      "Found 282 images belonging to 6 classes.\n"
     ]
    }
   ],
   "source": [
    "# training the data\n",
    "train_set=train_datagen.flow_from_directory('D://siva python//PROJECTS//CV_PROJECTS//images//CNN_with_multiple_data//train_set',target_size=(128,128),batch_size=32,class_mode='categorical')\n",
    "labels=(train_set.class_indices)"
   ]
  },
  {
   "cell_type": "code",
   "execution_count": 15,
   "id": "2ac58072",
   "metadata": {},
   "outputs": [
    {
     "name": "stdout",
     "output_type": "stream",
     "text": [
      "Found 103 images belonging to 6 classes.\n"
     ]
    }
   ],
   "source": [
    "val_set=test_datagen.flow_from_directory(\"D://siva python//PROJECTS//CV_PROJECTS//images//CNN_with_multiple_data//val_set\",target_size=(128,128),batch_size=32,class_mode='categorical')\n",
    "labels2=(val_set.class_indices)"
   ]
  },
  {
   "cell_type": "code",
   "execution_count": 17,
   "id": "05c61ca7",
   "metadata": {},
   "outputs": [
    {
     "name": "stderr",
     "output_type": "stream",
     "text": [
      "C:\\Users\\SIVA KOTESWARARAO\\AppData\\Local\\Temp\\ipykernel_22196\\4167274416.py:3: UserWarning: `Model.fit_generator` is deprecated and will be removed in a future version. Please use `Model.fit`, which supports generators.\n",
      "  model.fit_generator(train_set,steps_per_epoch=8,epochs=10,validation_data=val_set,validation_steps=125)\n"
     ]
    },
    {
     "name": "stdout",
     "output_type": "stream",
     "text": [
      "Epoch 1/10\n",
      "8/8 [==============================] - ETA: 0s - loss: 1.3504 - accuracy: 0.5360WARNING:tensorflow:Your input ran out of data; interrupting training. Make sure that your dataset or generator can generate at least `steps_per_epoch * epochs` batches (in this case, 125 batches). You may need to use the repeat() function when building your dataset.\n",
      "8/8 [==============================] - 43s 6s/step - loss: 1.3504 - accuracy: 0.5360 - val_loss: 1.8049 - val_accuracy: 0.1650\n",
      "Epoch 2/10\n",
      "8/8 [==============================] - 27s 4s/step - loss: 1.2135 - accuracy: 0.5360\n",
      "Epoch 3/10\n",
      "8/8 [==============================] - 26s 3s/step - loss: 0.9882 - accuracy: 0.6280\n",
      "Epoch 4/10\n",
      "8/8 [==============================] - 27s 3s/step - loss: 0.8750 - accuracy: 0.7360\n",
      "Epoch 5/10\n",
      "8/8 [==============================] - 26s 3s/step - loss: 0.7913 - accuracy: 0.7400\n",
      "Epoch 6/10\n",
      "8/8 [==============================] - 27s 3s/step - loss: 0.6731 - accuracy: 0.7480\n",
      "Epoch 7/10\n",
      "8/8 [==============================] - 25s 3s/step - loss: 0.7396 - accuracy: 0.7600\n",
      "Epoch 8/10\n",
      "8/8 [==============================] - 23s 3s/step - loss: 0.6336 - accuracy: 0.7640\n",
      "Epoch 9/10\n",
      "8/8 [==============================] - 28s 4s/step - loss: 0.5235 - accuracy: 0.8200\n",
      "Epoch 10/10\n",
      "8/8 [==============================] - 24s 3s/step - loss: 0.4591 - accuracy: 0.8360\n"
     ]
    },
    {
     "data": {
      "text/plain": [
       "<keras.src.callbacks.History at 0x22d91a01750>"
      ]
     },
     "execution_count": 17,
     "metadata": {},
     "output_type": "execute_result"
    }
   ],
   "source": [
    "# fitting the data\n",
    "                                     # we give the \n",
    "model.fit_generator(train_set,steps_per_epoch=8,epochs=10,validation_data=val_set,validation_steps=125)"
   ]
  },
  {
   "cell_type": "code",
   "execution_count": 18,
   "id": "2e716e1b",
   "metadata": {},
   "outputs": [
    {
     "name": "stdout",
     "output_type": "stream",
     "text": [
      " the model is successfully saved\n"
     ]
    }
   ],
   "source": [
    "# saving the model into the file\n",
    "model_file=model.to_json()\n",
    "\n",
    "with open(\"CNN_WITH_MULTI_CLASSES.json\",'w') as json_file:\n",
    "    json_file.write(model_file)\n",
    "    model.save_weights(\"CNN_MULTICLASS_WEIGHTS.WEIGHTS\")\n",
    "    print(\" the model is successfully saved\")"
   ]
  },
  {
   "cell_type": "code",
   "execution_count": null,
   "id": "23a5f26d",
   "metadata": {},
   "outputs": [],
   "source": []
  },
  {
   "cell_type": "code",
   "execution_count": null,
   "id": "51d138b0",
   "metadata": {},
   "outputs": [],
   "source": []
  },
  {
   "cell_type": "markdown",
   "id": "3f016113",
   "metadata": {},
   "source": [
    "# testing the model"
   ]
  },
  {
   "cell_type": "code",
   "execution_count": 30,
   "id": "21790dee",
   "metadata": {},
   "outputs": [
    {
     "name": "stdout",
     "output_type": "stream",
     "text": [
      "WARNING:tensorflow:Detecting that an object or model or tf.train.Checkpoint is being deleted with unrestored values. See the following logs for the specific values in question. To silence these warnings, use `status.expect_partial()`. See https://www.tensorflow.org/api_docs/python/tf/train/Checkpoint#restorefor details about the status object returned by the restore function.\n",
      "WARNING:tensorflow:Value in checkpoint could not be found in the restored object: (root).optimizer._iterations\n",
      "WARNING:tensorflow:Value in checkpoint could not be found in the restored object: (root).optimizer._learning_rate\n",
      "WARNING:tensorflow:Value in checkpoint could not be found in the restored object: (root).optimizer._variables.1\n",
      "WARNING:tensorflow:Value in checkpoint could not be found in the restored object: (root).optimizer._variables.2\n",
      "WARNING:tensorflow:Value in checkpoint could not be found in the restored object: (root).optimizer._variables.3\n",
      "WARNING:tensorflow:Value in checkpoint could not be found in the restored object: (root).optimizer._variables.4\n",
      "WARNING:tensorflow:Value in checkpoint could not be found in the restored object: (root).optimizer._variables.5\n",
      "WARNING:tensorflow:Value in checkpoint could not be found in the restored object: (root).optimizer._variables.6\n",
      "WARNING:tensorflow:Value in checkpoint could not be found in the restored object: (root).optimizer._variables.7\n",
      "WARNING:tensorflow:Value in checkpoint could not be found in the restored object: (root).optimizer._variables.8\n",
      "WARNING:tensorflow:Value in checkpoint could not be found in the restored object: (root).optimizer._variables.9\n",
      "WARNING:tensorflow:Value in checkpoint could not be found in the restored object: (root).optimizer._variables.10\n",
      "WARNING:tensorflow:Value in checkpoint could not be found in the restored object: (root).optimizer._variables.11\n",
      "WARNING:tensorflow:Value in checkpoint could not be found in the restored object: (root).optimizer._variables.12\n",
      "WARNING:tensorflow:Value in checkpoint could not be found in the restored object: (root).optimizer._variables.13\n",
      "WARNING:tensorflow:Value in checkpoint could not be found in the restored object: (root).optimizer._variables.14\n",
      "WARNING:tensorflow:Value in checkpoint could not be found in the restored object: (root).optimizer._variables.15\n",
      "WARNING:tensorflow:Value in checkpoint could not be found in the restored object: (root).optimizer._variables.16\n",
      "WARNING:tensorflow:Value in checkpoint could not be found in the restored object: (root).optimizer._variables.17\n",
      "WARNING:tensorflow:Value in checkpoint could not be found in the restored object: (root).optimizer._variables.18\n",
      "WARNING:tensorflow:Value in checkpoint could not be found in the restored object: (root).optimizer._variables.19\n",
      "WARNING:tensorflow:Value in checkpoint could not be found in the restored object: (root).optimizer._variables.20\n",
      "WARNING:tensorflow:Value in checkpoint could not be found in the restored object: (root).optimizer._variables.21\n",
      "WARNING:tensorflow:Value in checkpoint could not be found in the restored object: (root).optimizer._variables.22\n",
      "WARNING:tensorflow:Value in checkpoint could not be found in the restored object: (root).optimizer._variables.23\n",
      "WARNING:tensorflow:Value in checkpoint could not be found in the restored object: (root).optimizer._variables.24\n",
      "WARNING:tensorflow:Value in checkpoint could not be found in the restored object: (root).optimizer._variables.25\n",
      "WARNING:tensorflow:Value in checkpoint could not be found in the restored object: (root).optimizer._variables.26\n",
      "WARNING:tensorflow:Value in checkpoint could not be found in the restored object: (root).optimizer._variables.27\n",
      "WARNING:tensorflow:Value in checkpoint could not be found in the restored object: (root).optimizer._variables.28\n",
      "WARNING:tensorflow:Value in checkpoint could not be found in the restored object: (root).optimizer._variables.29\n",
      "WARNING:tensorflow:Value in checkpoint could not be found in the restored object: (root).optimizer._variables.30\n",
      "WARNING:tensorflow:Value in checkpoint could not be found in the restored object: (root).optimizer._variables.31\n",
      "WARNING:tensorflow:Value in checkpoint could not be found in the restored object: (root).optimizer._variables.32\n",
      "WARNING:tensorflow:Value in checkpoint could not be found in the restored object: (root).optimizer._variables.33\n",
      "WARNING:tensorflow:Value in checkpoint could not be found in the restored object: (root).optimizer._variables.34\n",
      "WARNING:tensorflow:Value in checkpoint could not be found in the restored object: (root).optimizer._variables.35\n",
      "WARNING:tensorflow:Value in checkpoint could not be found in the restored object: (root).optimizer._variables.36\n",
      "WARNING:tensorflow:Value in checkpoint could not be found in the restored object: (root).optimizer._variables.37\n",
      "WARNING:tensorflow:Value in checkpoint could not be found in the restored object: (root).optimizer._variables.38\n",
      "WARNING:tensorflow:Value in checkpoint could not be found in the restored object: (root).optimizer._variables.39\n",
      "WARNING:tensorflow:Value in checkpoint could not be found in the restored object: (root).optimizer._variables.40\n",
      "WARNING:tensorflow:Value in checkpoint could not be found in the restored object: (root).optimizer._variables.41\n",
      "WARNING:tensorflow:Value in checkpoint could not be found in the restored object: (root).optimizer._variables.42\n",
      "WARNING:tensorflow:Value in checkpoint could not be found in the restored object: (root).optimizer._variables.43\n",
      "WARNING:tensorflow:Value in checkpoint could not be found in the restored object: (root).optimizer._variables.44\n",
      "WARNING:tensorflow:Value in checkpoint could not be found in the restored object: (root).optimizer._variables.45\n",
      "WARNING:tensorflow:Value in checkpoint could not be found in the restored object: (root).optimizer._variables.46\n",
      "WARNING:tensorflow:Value in checkpoint could not be found in the restored object: (root).optimizer._variables.47\n",
      "WARNING:tensorflow:Value in checkpoint could not be found in the restored object: (root).optimizer._variables.48\n",
      "the model is successfully loaded\n",
      "1/1 [==============================] - 0s 375ms/step\n",
      "peacock\n",
      "\n",
      "\n",
      "1/1 [==============================] - 0s 68ms/step\n",
      "peacock\n",
      "\n",
      "\n",
      "1/1 [==============================] - 0s 62ms/step\n",
      "hulk\n",
      "\n",
      "\n",
      "1/1 [==============================] - 0s 67ms/step\n",
      "peacock\n",
      "\n",
      "\n",
      "1/1 [==============================] - 0s 65ms/step\n",
      "peacock\n",
      "\n",
      "\n",
      "1/1 [==============================] - 0s 56ms/step\n",
      "cat\n",
      "\n",
      "\n",
      "1/1 [==============================] - 0s 65ms/step\n",
      "cat\n",
      "\n",
      "\n",
      "1/1 [==============================] - 0s 63ms/step\n",
      "hulk\n",
      "\n",
      "\n",
      "1/1 [==============================] - 0s 56ms/step\n",
      "peacock\n",
      "\n",
      "\n",
      "1/1 [==============================] - 0s 67ms/step\n",
      "peacock\n",
      "\n",
      "\n",
      "1/1 [==============================] - 0s 72ms/step\n",
      "cat\n",
      "\n",
      "\n",
      "1/1 [==============================] - 0s 64ms/step\n",
      "hulk\n",
      "\n",
      "\n",
      "1/1 [==============================] - 0s 63ms/step\n",
      "peacock\n",
      "\n",
      "\n",
      "1/1 [==============================] - 0s 62ms/step\n",
      "hulk\n",
      "\n",
      "\n",
      "1/1 [==============================] - 0s 53ms/step\n",
      "hulk\n",
      "\n",
      "\n",
      "1/1 [==============================] - 0s 65ms/step\n",
      "peacock\n",
      "\n",
      "\n",
      "1/1 [==============================] - 0s 62ms/step\n",
      "peacock\n",
      "\n",
      "\n"
     ]
    }
   ],
   "source": [
    "# testing the data\n",
    "from keras.models import model_from_json\n",
    "import numpy as np\n",
    "from keras.preprocessing import image\n",
    "import os\n",
    "\n",
    "json_file=open('CNN_WITH_MULTI_CLASSES.json','r')\n",
    "#print(json_file)\n",
    "loaded_model_json=json_file.read()\n",
    "json_file.close()\n",
    "\n",
    "model=model_from_json(loaded_model_json)\n",
    "model.load_weights(\"CNN_MULTICLASS_WEIGHTS.WEIGHTS\")\n",
    "print(\"the model is successfully loaded\")\n",
    "\n",
    "def classify(img_file):\n",
    "    img_name=img_file\n",
    "    test_image=image.load_img(img_name,target_size=(128,128))\n",
    "    \n",
    "    \n",
    "    test_image=image.img_to_array(test_image)\n",
    "    test_image=np.expand_dims(test_image,axis=0)\n",
    "    result=model.predict(test_image)\n",
    "    \n",
    "    classes=['cat','elephant','hulk','iron_man','peacock','tiger']\n",
    "    label2=classes[result.argmax()]\n",
    "    print(label2)\n",
    "    \n",
    "path=\"D://siva python//PROJECTS//CV_PROJECTS//images//CNN_with_multiple_data//test_set\"\n",
    "files=[]\n",
    "for r,d,f in os.walk(path):\n",
    "    #print(f)\n",
    "    \n",
    "    #print(f)\n",
    "    for file in f:\n",
    "        \n",
    "            #if '.jpg' or '.png' in file:\n",
    "        #print(files)\n",
    "        files.append(os.path.join(r,file))\n",
    "#print(files)\n",
    "for f in files:\n",
    "    classify(f)\n",
    "    print('\\n')"
   ]
  },
  {
   "cell_type": "code",
   "execution_count": null,
   "id": "18109dfb",
   "metadata": {},
   "outputs": [],
   "source": []
  }
 ],
 "metadata": {
  "kernelspec": {
   "display_name": "Python 3 (ipykernel)",
   "language": "python",
   "name": "python3"
  },
  "language_info": {
   "codemirror_mode": {
    "name": "ipython",
    "version": 3
   },
   "file_extension": ".py",
   "mimetype": "text/x-python",
   "name": "python",
   "nbconvert_exporter": "python",
   "pygments_lexer": "ipython3",
   "version": "3.11.4"
  }
 },
 "nbformat": 4,
 "nbformat_minor": 5
}
